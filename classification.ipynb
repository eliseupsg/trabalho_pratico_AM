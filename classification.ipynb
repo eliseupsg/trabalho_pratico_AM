{
 "cells": [
  {
   "cell_type": "code",
   "execution_count": 2,
   "metadata": {},
   "outputs": [
    {
     "name": "stdout",
     "output_type": "stream",
     "text": [
      "Carregando o arquivo de dados...\n",
      "Calculando as medidas de desempenho usando 10-fold cross-validation\n",
      "Algoritmo SVM\n",
      "Acurácia: 0.7401\n",
      "F-measure: 0.7393\n",
      "Algoritmo Logistic Regression\n",
      "Acurácia: 0.7244\n",
      "F-measure: 0.7241\n"
     ]
    }
   ],
   "source": [
    "'''\n",
    "Universidade Federal Fluminense\n",
    "Programa de Pós-Graduação em Computação\n",
    "Aprendizado de Máquina (EAD) - 2020.1\n",
    "Autor: Eliseu Paz e Silva de Guimarães\n",
    "Trabalho Prático\n",
    "Descrição: este script tem o objetivo de fazer a classificação e calcular as medidas de desempenho para o trabalho prático da\n",
    "disciplina de AM (EAD)\n",
    "'''\n",
    "import pandas as pd\n",
    "import numpy as np\n",
    "from sklearn.svm import SVC\n",
    "from sklearn.linear_model import LogisticRegression\n",
    "from sklearn.model_selection import StratifiedKFold\n",
    "from sklearn.metrics import f1_score, accuracy_score\n",
    "from statistics import mean\n",
    "\n",
    "#Configura os parâmetros dos classificadores e da validação cruzada\n",
    "skf = StratifiedKFold(n_splits=10)\n",
    "svc_clf = SVC(kernel='linear')\n",
    "lr_clf = LogisticRegression(max_iter = 10000)\n",
    "svc_accur = []\n",
    "lr_accur = []\n",
    "svc_f1 = []\n",
    "lr_f1 = []\n",
    "\n",
    "#Carrega os embeddings dos reviews e suas classes\n",
    "print(\"Carregando o arquivo de dados...\")\n",
    "df_data = pd.read_csv(\"reviews_emb.csv\", header=None)\n",
    "X = df_data.iloc[:, :len(df_data.columns)-2].to_numpy()\n",
    "y = df_data[len(df_data.columns)-1].to_numpy()\n",
    "\n",
    "#Calcula as medidas de desempenho com 10-fold cross-validation\n",
    "print(\"Calculando as medidas de desempenho usando 10-fold cross-validation\")\n",
    "for train_index, test_index in skf.split(X, y):\n",
    "    #Treina os classificadores\n",
    "    svc_clf.fit(X[train_index], y[train_index])\n",
    "    lr_clf.fit(X[train_index], y[train_index])\n",
    "    \n",
    "    #Prediz as classes\n",
    "    svc_predict = svc_clf.predict(X[test_index])\n",
    "    lr_predict = lr_clf.predict(X[test_index])\n",
    "    \n",
    "    #Calcula as medidas de desempenho para este fold\n",
    "    svc_accur.append(accuracy_score(y[test_index], svc_predict))\n",
    "    lr_accur.append(accuracy_score(y[test_index], lr_predict))\n",
    "    svc_f1.append(f1_score(y[test_index], svc_predict, average='macro'))\n",
    "    lr_f1.append(f1_score(y[test_index], lr_predict, average='macro'))\n",
    "\n",
    "print(\"Algoritmo SVM\")\n",
    "print(\"Acurácia: \"+\"{:6.4f}\".format(mean(svc_accur))+\"\\nF-measure: \"+\"{:6.4f}\".format(mean(svc_f1)))\n",
    "print(\"Algoritmo Logistic Regression\")\n",
    "print(\"Acurácia: \"+\"{:6.4f}\".format(mean(lr_accur))+\"\\nF-measure: \"+\"{:6.4f}\".format(mean(lr_f1)))"
   ]
  },
  {
   "cell_type": "code",
   "execution_count": null,
   "metadata": {},
   "outputs": [],
   "source": []
  }
 ],
 "metadata": {
  "kernelspec": {
   "display_name": "Python 3",
   "language": "python",
   "name": "python3"
  },
  "language_info": {
   "codemirror_mode": {
    "name": "ipython",
    "version": 3
   },
   "file_extension": ".py",
   "mimetype": "text/x-python",
   "name": "python",
   "nbconvert_exporter": "python",
   "pygments_lexer": "ipython3",
   "version": "3.7.6"
  }
 },
 "nbformat": 4,
 "nbformat_minor": 4
}
