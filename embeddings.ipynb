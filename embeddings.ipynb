{
 "cells": [
  {
   "cell_type": "code",
   "execution_count": 1,
   "metadata": {},
   "outputs": [
    {
     "name": "stdout",
     "output_type": "stream",
     "text": [
      "Carregando o modelo de word embeddings...\n",
      "Carregando os reviews...\n",
      "Calculando os embeddings dos reviews...\n",
      "Salvando o arquivo de embeddings dos reviews...\n"
     ]
    }
   ],
   "source": [
    "'''\n",
    "Universidade Federal Fluminense\n",
    "Programa de Pós-Graduação em Computação\n",
    "Aprendizado de Máquina (EAD) - 2020.1\n",
    "Autor: Eliseu Paz e Silva de Guimarães\n",
    "Trabalho Prático\n",
    "Descrição: este script tem o objetivo de gerar os embeddings que representam os reviews para o trabalho prático da disciplina \n",
    "de AM (EAD)\n",
    "Os textos dos reviews são substituídos pela média dos embeddings dos tokens que os compõem.\n",
    "'''\n",
    "import pandas as pd\n",
    "import csv\n",
    "\n",
    "df_reviews_emb = pd.DataFrame()\n",
    "\n",
    "#Carrega o modelo de word embedding\n",
    "print(\"Carregando o modelo de word embeddings...\")\n",
    "df_emb_model = pd.read_csv(\"w2v_edin_400d.csv\", sep='\\t', index_col=-1, header=None, quoting=csv.QUOTE_NONE,\n",
    "                           error_bad_lines=False)\n",
    "we = {}\n",
    "pd.set_option('precision', 15)\n",
    "for ix, row in df_emb_model.iterrows():\n",
    "    we_values = row\n",
    "    we[ix] = we_values\n",
    "\n",
    "print(\"Carregando os reviews...\")\n",
    "#Carrega os dados pré-processados\n",
    "df_data = pd.read_csv(\"pp_data.csv\", header=None)\n",
    "\n",
    "print(\"Calculando os embeddings dos reviews...\")\n",
    "#Calcula os embeddings dos reviews\n",
    "for i in range(len(df_data)):\n",
    "    tokens = df_data.iloc[i, 0].split(' ')\n",
    "    review_emb = [0.0]*400\n",
    "    \n",
    "    for token in tokens:\n",
    "        try:\n",
    "            review_emb += we[token]\n",
    "        except KeyError:\n",
    "            review_emb = review_emb\n",
    "    review_emb = [embedding/len(tokens) for embedding in review_emb]\n",
    "    df_reviews_emb[i] = review_emb\n",
    "\n",
    "print(\"Salvando o arquivo de embeddings dos reviews...\")\n",
    "df_reviews_emb = df_reviews_emb.T\n",
    "df_reviews_emb[len(df_reviews_emb.columns)] = df_data.iloc[:, len(df_data.columns)-1]\n",
    "df_reviews_emb.to_csv(\"reviews_emb.csv\", index=False, header=False)"
   ]
  },
  {
   "cell_type": "code",
   "execution_count": null,
   "metadata": {},
   "outputs": [],
   "source": []
  }
 ],
 "metadata": {
  "kernelspec": {
   "display_name": "Python 3",
   "language": "python",
   "name": "python3"
  },
  "language_info": {
   "codemirror_mode": {
    "name": "ipython",
    "version": 3
   },
   "file_extension": ".py",
   "mimetype": "text/x-python",
   "name": "python",
   "nbconvert_exporter": "python",
   "pygments_lexer": "ipython3",
   "version": "3.7.6"
  }
 },
 "nbformat": 4,
 "nbformat_minor": 4
}
